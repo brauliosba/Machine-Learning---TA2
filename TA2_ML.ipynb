{
  "nbformat": 4,
  "nbformat_minor": 0,
  "metadata": {
    "colab": {
      "name": "TA2_ML.ipynb",
      "provenance": [],
      "collapsed_sections": [],
      "authorship_tag": "ABX9TyPydVdG1+2jznrMHiRT3k0g",
      "include_colab_link": true
    },
    "kernelspec": {
      "name": "python3",
      "display_name": "Python 3"
    }
  },
  "cells": [
    {
      "cell_type": "markdown",
      "metadata": {
        "id": "view-in-github",
        "colab_type": "text"
      },
      "source": [
        "<a href=\"https://colab.research.google.com/github/brauliosba/Machine-Learning---TA2/blob/main/TA2_ML.ipynb\" target=\"_parent\"><img src=\"https://colab.research.google.com/assets/colab-badge.svg\" alt=\"Open In Colab\"/></a>"
      ]
    },
    {
      "cell_type": "markdown",
      "metadata": {
        "id": "LUdve1puJMNw"
      },
      "source": [
        "# Convolutional Neural Networks"
      ]
    },
    {
      "cell_type": "markdown",
      "metadata": {
        "id": "loZ-WZhTJw2K"
      },
      "source": [
        "Integrantes:\n",
        "\n",
        "*   Alegre Flores, Renzo Paolo\n",
        "*   Baldeón Albornoz, Braulio Sebastián\n",
        "\n"
      ]
    },
    {
      "cell_type": "markdown",
      "metadata": {
        "id": "clAKig8TJSHF"
      },
      "source": [
        "## Introducción"
      ]
    },
    {
      "cell_type": "markdown",
      "metadata": {
        "id": "Mrsil3uhJWvJ"
      },
      "source": [
        "## Motivación de Uso"
      ]
    },
    {
      "cell_type": "markdown",
      "metadata": {
        "id": "vH7VNOL-Jral"
      },
      "source": [
        "## Implementación mediante librerias"
      ]
    },
    {
      "cell_type": "markdown",
      "metadata": {
        "id": "WTR7zMHnkmGX"
      },
      "source": [
        "Revisando la documentación de las librerías empleadas en Machine Learning y algunos repositorios de github, llegamos a la conclusión que las librerías disponibles para implementar una CNN son Tensorflow [1], PyTorch [2], Caffe [3], Theano [4] y MXNet [5]."
      ]
    },
    {
      "cell_type": "markdown",
      "metadata": {
        "id": "_gW7njxoo58F"
      },
      "source": [
        "La librería sugerida es Tensorflow debido a que: \n",
        "\n",
        "*   Permite correr modelos en plataformas moviles (iOS and Android).\n",
        "*   Permite usar multiples GPU's para el entrenamiento del modelo, reduciendo el tiempo empleado.\n",
        "*   Cuenta con una excelente documentación y una comunidad activa. Asi que, es facil conseguir apoyo frente a cualquier inconveniente.\n",
        "\n"
      ]
    },
    {
      "cell_type": "markdown",
      "metadata": {
        "id": "ij2yuY76L2yr"
      },
      "source": [
        "## Aplicaciones de uso"
      ]
    },
    {
      "cell_type": "markdown",
      "metadata": {
        "id": "aTW4uC2DBFuy"
      },
      "source": [
        "En en artículo \"Colorful Image Colorization\" emplean una CNN para proveer, a imagenes en escala de grises, una colorizaión capaz de engañar el ojo humano. En resumen, los autores entrenaron una CNN para predecir los dos canales de colores asociados a un determinado input de escala de gris. Esta investigación ha servido de base para varias aplicaciones tanto para imagenes como para videos; como es el caso que se muestra en este video: https://whattogive.com/videoColourization/ [6]."
      ]
    },
    {
      "cell_type": "markdown",
      "metadata": {
        "id": "1lBehKKEMtHi"
      },
      "source": [
        ""
      ]
    },
    {
      "cell_type": "markdown",
      "metadata": {
        "id": "Bnd5w1VEJcLB"
      },
      "source": [
        "## Referencias"
      ]
    }
  ]
}