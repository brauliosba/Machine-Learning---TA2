{
  "nbformat": 4,
  "nbformat_minor": 0,
  "metadata": {
    "colab": {
      "name": "TA2_ML.ipynb",
      "provenance": [],
      "authorship_tag": "ABX9TyPfYggCeilwXuOa3TgqHJkA",
      "include_colab_link": true
    },
    "kernelspec": {
      "name": "python3",
      "display_name": "Python 3"
    }
  },
  "cells": [
    {
      "cell_type": "markdown",
      "metadata": {
        "id": "view-in-github",
        "colab_type": "text"
      },
      "source": [
        "<a href=\"https://colab.research.google.com/github/brauliosba/Machine-Learning---TA2/blob/main/TA2_ML.ipynb\" target=\"_parent\"><img src=\"https://colab.research.google.com/assets/colab-badge.svg\" alt=\"Open In Colab\"/></a>"
      ]
    },
    {
      "cell_type": "markdown",
      "metadata": {
        "id": "LUdve1puJMNw"
      },
      "source": [
        "# Convolutional Neural Networks"
      ]
    },
    {
      "cell_type": "markdown",
      "metadata": {
        "id": "loZ-WZhTJw2K"
      },
      "source": [
        "Integrantes:\n",
        "\n",
        "*   Alegre Flores, Renzo Paolo\n",
        "*   Baldeón Albornoz, Braulio Sebastián\n",
        "\n"
      ]
    },
    {
      "cell_type": "markdown",
      "metadata": {
        "id": "clAKig8TJSHF"
      },
      "source": [
        "## Introducción"
      ]
    },
    {
      "cell_type": "markdown",
      "metadata": {
        "id": "Mrsil3uhJWvJ"
      },
      "source": [
        "## Motivación de Uso"
      ]
    },
    {
      "cell_type": "markdown",
      "metadata": {
        "id": "vH7VNOL-Jral"
      },
      "source": [
        "## Aplicaciones de uso"
      ]
    },
    {
      "cell_type": "markdown",
      "metadata": {
        "id": "Bnd5w1VEJcLB"
      },
      "source": [
        "## Referencias"
      ]
    }
  ]
}