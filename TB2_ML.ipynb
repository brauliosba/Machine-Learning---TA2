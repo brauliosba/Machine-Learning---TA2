{
  "nbformat": 4,
  "nbformat_minor": 0,
  "metadata": {
    "colab": {
      "name": "TB2_ML.ipynb",
      "provenance": [],
      "collapsed_sections": [],
      "mount_file_id": "https://github.com/brauliosba/Machine-Learning---TA2/blob/main/TB2_ML.ipynb",
      "authorship_tag": "ABX9TyN7lJegjuc7wzzyYjEq29Vf",
      "include_colab_link": true
    },
    "kernelspec": {
      "name": "python3",
      "display_name": "Python 3"
    }
  },
  "cells": [
    {
      "cell_type": "markdown",
      "metadata": {
        "id": "view-in-github",
        "colab_type": "text"
      },
      "source": [
        "<a href=\"https://colab.research.google.com/github/brauliosba/Machine-Learning---TA2/blob/main/TB2_ML.ipynb\" target=\"_parent\"><img src=\"https://colab.research.google.com/assets/colab-badge.svg\" alt=\"Open In Colab\"/></a>"
      ]
    },
    {
      "cell_type": "code",
      "metadata": {
        "id": "DYslgufS34zf"
      },
      "source": [
        "from google.colab import drive\n",
        "import os\n",
        "import cv2\n",
        "import copy\n",
        "import pandas as pd\n",
        "import matplotlib.pyplot as plt\n",
        "from keras.datasets import mnist\n",
        "from tensorflow.keras.models import Sequential\n",
        "from tensorflow.keras.layers import Flatten, Dense, Dropout, Conv2D, MaxPooling2D\n",
        "from keras.utils import to_categorical"
      ],
      "execution_count": 44,
      "outputs": []
    },
    {
      "cell_type": "code",
      "metadata": {
        "id": "Re5TV-sRaO0H",
        "outputId": "0d37f5a7-7fa8-4688-adda-adc1d1eb71f6",
        "colab": {
          "base_uri": "https://localhost:8080/"
        }
      },
      "source": [
        "from google.colab import drive\n",
        "drive.mount('/content/drive')"
      ],
      "execution_count": 5,
      "outputs": [
        {
          "output_type": "stream",
          "text": [
            "Mounted at /content/drive\n"
          ],
          "name": "stdout"
        }
      ]
    },
    {
      "cell_type": "code",
      "metadata": {
        "id": "lVXnRILqZAKV"
      },
      "source": [
        "path = \"/content/drive/My Drive/xray_dataset_covid19/NORMAL\"\n",
        "path2 = \"/content/drive/My Drive/xray_dataset_covid19/PNEUMONIA\""
      ],
      "execution_count": 30,
      "outputs": []
    },
    {
      "cell_type": "code",
      "metadata": {
        "id": "wSyphDa3Y_c4"
      },
      "source": [
        "images = []\n",
        "labels = []\n",
        "\n",
        "for item in sorted(os.listdir(path)):\n",
        "    img = cv2.imread(path+\"/\"+item)\n",
        "    images.append(img)\n",
        "    labels.append(1)\n",
        "\n",
        "for item in sorted(os.listdir(path2)):\n",
        "    img = cv2.imread(path2+\"/\"+item)\n",
        "    images.append(img)\n",
        "    labels.append(0)"
      ],
      "execution_count": 67,
      "outputs": []
    },
    {
      "cell_type": "code",
      "metadata": {
        "id": "TaAhznI7gVpi",
        "outputId": "ac54c6f9-edd5-490a-c9e6-e4ddd898c4fd",
        "colab": {
          "base_uri": "https://localhost:8080/"
        }
      },
      "source": [
        "print(len(images))\n",
        "print(len(labels))"
      ],
      "execution_count": 68,
      "outputs": [
        {
          "output_type": "stream",
          "text": [
            "188\n",
            "188\n"
          ],
          "name": "stdout"
        }
      ]
    },
    {
      "cell_type": "code",
      "metadata": {
        "id": "6aEt76-ugyJ5"
      },
      "source": [
        "df = pd.DataFrame({'image': images, 'label': labels})"
      ],
      "execution_count": 70,
      "outputs": []
    },
    {
      "cell_type": "code",
      "metadata": {
        "id": "4d5zXoOWhNJn"
      },
      "source": [
        "df = df.sample(frac=1)"
      ],
      "execution_count": 72,
      "outputs": []
    },
    {
      "cell_type": "code",
      "metadata": {
        "id": "lJwktWPRoGIP",
        "outputId": "ba115766-d6c1-44b7-fb67-b4ee4a2959af",
        "colab": {
          "base_uri": "https://localhost:8080/",
          "height": 402
        }
      },
      "source": [
        "df"
      ],
      "execution_count": 73,
      "outputs": [
        {
          "output_type": "execute_result",
          "data": {
            "text/html": [
              "<div>\n",
              "<style scoped>\n",
              "    .dataframe tbody tr th:only-of-type {\n",
              "        vertical-align: middle;\n",
              "    }\n",
              "\n",
              "    .dataframe tbody tr th {\n",
              "        vertical-align: top;\n",
              "    }\n",
              "\n",
              "    .dataframe thead th {\n",
              "        text-align: right;\n",
              "    }\n",
              "</style>\n",
              "<table border=\"1\" class=\"dataframe\">\n",
              "  <thead>\n",
              "    <tr style=\"text-align: right;\">\n",
              "      <th></th>\n",
              "      <th>image</th>\n",
              "      <th>label</th>\n",
              "    </tr>\n",
              "  </thead>\n",
              "  <tbody>\n",
              "    <tr>\n",
              "      <th>66</th>\n",
              "      <td>[[[0, 0, 0], [0, 0, 0], [0, 0, 0], [0, 0, 0], ...</td>\n",
              "      <td>1</td>\n",
              "    </tr>\n",
              "    <tr>\n",
              "      <th>83</th>\n",
              "      <td>[[[0, 0, 0], [0, 0, 0], [0, 0, 0], [0, 0, 0], ...</td>\n",
              "      <td>1</td>\n",
              "    </tr>\n",
              "    <tr>\n",
              "      <th>78</th>\n",
              "      <td>[[[0, 0, 0], [0, 0, 0], [0, 0, 0], [0, 0, 0], ...</td>\n",
              "      <td>1</td>\n",
              "    </tr>\n",
              "    <tr>\n",
              "      <th>106</th>\n",
              "      <td>[[[19, 19, 19], [24, 24, 24], [25, 25, 25], [3...</td>\n",
              "      <td>0</td>\n",
              "    </tr>\n",
              "    <tr>\n",
              "      <th>24</th>\n",
              "      <td>[[[1, 1, 1], [15, 15, 15], [16, 16, 16], [13, ...</td>\n",
              "      <td>1</td>\n",
              "    </tr>\n",
              "    <tr>\n",
              "      <th>...</th>\n",
              "      <td>...</td>\n",
              "      <td>...</td>\n",
              "    </tr>\n",
              "    <tr>\n",
              "      <th>186</th>\n",
              "      <td>[[[1, 1, 1], [19, 19, 19], [26, 26, 26], [27, ...</td>\n",
              "      <td>0</td>\n",
              "    </tr>\n",
              "    <tr>\n",
              "      <th>25</th>\n",
              "      <td>[[[0, 0, 0], [34, 34, 34], [36, 36, 36], [35, ...</td>\n",
              "      <td>1</td>\n",
              "    </tr>\n",
              "    <tr>\n",
              "      <th>13</th>\n",
              "      <td>[[[0, 0, 0], [18, 18, 18], [22, 22, 22], [16, ...</td>\n",
              "      <td>1</td>\n",
              "    </tr>\n",
              "    <tr>\n",
              "      <th>37</th>\n",
              "      <td>[[[29, 29, 29], [28, 28, 28], [27, 27, 27], [2...</td>\n",
              "      <td>1</td>\n",
              "    </tr>\n",
              "    <tr>\n",
              "      <th>86</th>\n",
              "      <td>[[[0, 0, 0], [0, 0, 0], [0, 0, 0], [0, 0, 0], ...</td>\n",
              "      <td>1</td>\n",
              "    </tr>\n",
              "  </tbody>\n",
              "</table>\n",
              "<p>188 rows × 2 columns</p>\n",
              "</div>"
            ],
            "text/plain": [
              "                                                 image  label\n",
              "66   [[[0, 0, 0], [0, 0, 0], [0, 0, 0], [0, 0, 0], ...      1\n",
              "83   [[[0, 0, 0], [0, 0, 0], [0, 0, 0], [0, 0, 0], ...      1\n",
              "78   [[[0, 0, 0], [0, 0, 0], [0, 0, 0], [0, 0, 0], ...      1\n",
              "106  [[[19, 19, 19], [24, 24, 24], [25, 25, 25], [3...      0\n",
              "24   [[[1, 1, 1], [15, 15, 15], [16, 16, 16], [13, ...      1\n",
              "..                                                 ...    ...\n",
              "186  [[[1, 1, 1], [19, 19, 19], [26, 26, 26], [27, ...      0\n",
              "25   [[[0, 0, 0], [34, 34, 34], [36, 36, 36], [35, ...      1\n",
              "13   [[[0, 0, 0], [18, 18, 18], [22, 22, 22], [16, ...      1\n",
              "37   [[[29, 29, 29], [28, 28, 28], [27, 27, 27], [2...      1\n",
              "86   [[[0, 0, 0], [0, 0, 0], [0, 0, 0], [0, 0, 0], ...      1\n",
              "\n",
              "[188 rows x 2 columns]"
            ]
          },
          "metadata": {
            "tags": []
          },
          "execution_count": 73
        }
      ]
    },
    {
      "cell_type": "code",
      "metadata": {
        "colab": {
          "base_uri": "https://localhost:8080/",
          "height": 269
        },
        "id": "aT49KrMp4CAV",
        "outputId": "87f46bdb-8f8f-442a-ebfe-1e8a0ed65095"
      },
      "source": [
        "imagen_ejemplo = copy.copy(df['image'][18])\n",
        "plt.imshow(imagen_ejemplo, cmap='gray')\n",
        "plt.show()"
      ],
      "execution_count": 75,
      "outputs": [
        {
          "output_type": "display_data",
          "data": {
            "image/png": "[encoded data removed]",
            "text/plain": [
              "<Figure size 432x288 with 1 Axes>"
            ]
          },
          "metadata": {
            "tags": [],
            "needs_background": "light"
          }
        }
      ]
    },
    {
      "cell_type": "code",
      "metadata": {
        "colab": {
          "base_uri": "https://localhost:8080/"
        },
        "id": "NV9uYEtT4D4I",
        "outputId": "fb0747a4-10db-49e2-f08d-0a9a1aee5837"
      },
      "source": [
        "X_train[0].shape"
      ],
      "execution_count": null,
      "outputs": [
        {
          "output_type": "execute_result",
          "data": {
            "text/plain": [
              "(28, 28)"
            ]
          },
          "metadata": {
            "tags": []
          },
          "execution_count": 51
        }
      ]
    },
    {
      "cell_type": "code",
      "metadata": {
        "id": "j08es0cP4GA1"
      },
      "source": [
        "X_train = X_train.reshape(60000,28,28,1)\n",
        "X_test = X_test.reshape(10000,28,28,1)"
      ],
      "execution_count": null,
      "outputs": []
    },
    {
      "cell_type": "code",
      "metadata": {
        "colab": {
          "base_uri": "https://localhost:8080/"
        },
        "id": "SXTNDyhz4MX-",
        "outputId": "48fe38a7-d471-4090-8c1e-44eb38f60982"
      },
      "source": [
        "y_train = to_categorical(y_train)\n",
        "y_test = to_categorical(y_test)\n",
        "y_train[0]"
      ],
      "execution_count": null,
      "outputs": [
        {
          "output_type": "execute_result",
          "data": {
            "text/plain": [
              "array([0., 0., 0., 0., 0., 1., 0., 0., 0., 0.], dtype=float32)"
            ]
          },
          "metadata": {
            "tags": []
          },
          "execution_count": 53
        }
      ]
    },
    {
      "cell_type": "code",
      "metadata": {
        "id": "mbErRgX94aU4"
      },
      "source": [
        "model = Sequential()\n",
        "\n",
        "model.add(Conv2D(64, kernel_size=3, activation='relu', input_shape=(28,28,1)))\n",
        "model.add(Conv2D(32, kernel_size=3, activation='relu'))\n",
        "model.add(Flatten())\n",
        "model.add(Dense(10, activation='softmax'))"
      ],
      "execution_count": null,
      "outputs": []
    },
    {
      "cell_type": "code",
      "metadata": {
        "id": "M9tAkAjE4djN"
      },
      "source": [
        "model.compile(optimizer='adam', loss='categorical_crossentropy', metrics=['accuracy'])"
      ],
      "execution_count": null,
      "outputs": []
    },
    {
      "cell_type": "code",
      "metadata": {
        "colab": {
          "base_uri": "https://localhost:8080/"
        },
        "id": "pTqrzMaL4oIE",
        "outputId": "f35bea0b-716a-4dc7-aeeb-61f653419db0"
      },
      "source": [
        "model.fit(X_train, y_train, epochs=5)"
      ],
      "execution_count": null,
      "outputs": [
        {
          "output_type": "stream",
          "text": [
            "Epoch 1/5\n",
            "1875/1875 [==============================] - 161s 86ms/step - loss: 0.2251 - accuracy: 0.9526\n",
            "Epoch 2/5\n",
            "1875/1875 [==============================] - 161s 86ms/step - loss: 0.0715 - accuracy: 0.9790\n",
            "Epoch 3/5\n",
            "1875/1875 [==============================] - 161s 86ms/step - loss: 0.0483 - accuracy: 0.9852\n",
            "Epoch 4/5\n",
            "1875/1875 [==============================] - 161s 86ms/step - loss: 0.0381 - accuracy: 0.9877\n",
            "Epoch 5/5\n",
            "1875/1875 [==============================] - 160s 85ms/step - loss: 0.0310 - accuracy: 0.9903\n"
          ],
          "name": "stdout"
        },
        {
          "output_type": "execute_result",
          "data": {
            "text/plain": [
              "<tensorflow.python.keras.callbacks.History at 0x7f6dbc2df6d8>"
            ]
          },
          "metadata": {
            "tags": []
          },
          "execution_count": 66
        }
      ]
    },
    {
      "cell_type": "code",
      "metadata": {
        "colab": {
          "base_uri": "https://localhost:8080/"
        },
        "id": "BnYuNuYPDaGh",
        "outputId": "b12ec123-ea1d-4513-f85c-4e7dadb50e72"
      },
      "source": [
        "score = model.evaluate(X_test, y_test, verbose=0)\n",
        "print('Test loss:', score[0])\n",
        "print('Test accuracy:', score[1])"
      ],
      "execution_count": null,
      "outputs": [
        {
          "output_type": "stream",
          "text": [
            "Test loss: 0.11089184880256653\n",
            "Test accuracy: 0.9754999876022339\n"
          ],
          "name": "stdout"
        }
      ]
    }
  ]
}